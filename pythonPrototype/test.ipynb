{
 "cells": [
  {
   "cell_type": "code",
   "execution_count": 2,
   "metadata": {},
   "outputs": [
    {
     "name": "stdout",
     "output_type": "stream",
     "text": [
      "(40000, 784) (10000, 784)\n",
      "(40000, 10) (10000, 10)\n"
     ]
    }
   ],
   "source": [
    "import numpy as np\n",
    "import os\n",
    "import matplotlib.pyplot as plt\n",
    "\n",
    "image_size = 28\n",
    "\n",
    "# Load data\n",
    "train = np.load(os.getcwd()+'/mnist_train.npy', allow_pickle=True)\n",
    "test = np.load(os.getcwd()+'/mnist_test.npy', allow_pickle=True)\n",
    "\n",
    "train_data = train[()]['data']\n",
    "train_labels = train[()]['labels']\n",
    "\n",
    "test_data = test[()]['data']\n",
    "test_labels = test[()]['labels']\n",
    "\n",
    "# Print dataset dimensions\n",
    "print(train_data.shape,  test_data.shape)\n",
    "print(train_labels.shape,  test_labels.shape)\n",
    "\n",
    "\n",
    "# Show the 1st digit image from dataset and print its label\n",
    "# ======== YOUR CODE HERE ========\n",
    "\n",
    "\n",
    "# ================================"
   ]
  },
  {
   "cell_type": "code",
   "execution_count": 3,
   "metadata": {},
   "outputs": [
    {
     "name": "stdout",
     "output_type": "stream",
     "text": [
      "[1. 0. 0. 0. 0. 0. 0. 0. 0. 0.]\n"
     ]
    },
    {
     "data": {
      "image/png": "[encoded data removed]",
      "text/plain": [
       "<Figure size 432x288 with 1 Axes>"
      ]
     },
     "metadata": {
      "needs_background": "light"
     },
     "output_type": "display_data"
    }
   ],
   "source": [
    "plt.imshow(train_data[4000].reshape((28,28)), 'gray')\n",
    "print(train_labels[4000])"
   ]
  },
  {
   "cell_type": "code",
   "execution_count": 4,
   "metadata": {},
   "outputs": [],
   "source": [
    "def sigmoid(z):\n",
    "    sigmoid_func = 1/(1 + np.exp(-z))\n",
    "    return sigmoid_func\n",
    "\n",
    "def grad_log(theta, X, y):\n",
    "    m = X.shape[0]\n",
    "    sum = np.zeros((785))\n",
    "    for i in range(m):\n",
    "        # print(theta.shape, X.shape)\n",
    "        z = np.dot(theta,X**i)\n",
    "        # print(z)\n",
    "        h = z * sigmoid(z)\n",
    "        sum += (h - y**i) * X**i\n",
    "    return sum/m\n",
    "\n",
    "def cost_log(theta, X, y):\n",
    "    m = X.shape[0]\n",
    "    sum = 0\n",
    "    for i in range(m):\n",
    "        z = np.dot(theta,X**i)\n",
    "        h = z * sigmoid(z)\n",
    "        sum += (y**i) * np.log(h) + (1 - y**i) * np.log(1 - h)\n",
    "    return -(sum/m)"
   ]
  },
  {
   "cell_type": "code",
   "execution_count": 7,
   "metadata": {},
   "outputs": [
    {
     "name": "stdout",
     "output_type": "stream",
     "text": [
      "(40000, 785)\n",
      "40000\n"
     ]
    }
   ],
   "source": [
    "alpha = 10**(-9)\n",
    "num_iter = 3000\n",
    "num_classes = 10\n",
    "\n",
    "# Add a column of ones to train_x\n",
    "ones = np.ones((train_data.shape[0],1))\n",
    "train_X = np.hstack((ones, train_data))\n",
    "# print(train_X.shape)\n",
    "s = train_data.shape[0]\n",
    "# print(s)\n",
    "# 10-by-785 matrix for the total classifier\n",
    "theta = np.zeros((num_classes, train_X.shape[1]))\n",
    "# ======== YOUR CODE HERE ========\n",
    "# for digit in range(num_classes):\n",
    "#     # for i in range(num_iter):\n",
    "#         for x in range(s):\n",
    "#             diff = grad_log(theta[digit], train_X[x], train_labels[x,digit])\n",
    "#             theta = theta - alpha * diff\n",
    "#             if x % 10 == 0:\n",
    "#                 print('digit ' + str(digit) + ' image ' + str(x) + ' complete')"
   ]
  },
  {
   "cell_type": "code",
   "execution_count": null,
   "metadata": {},
   "outputs": [],
   "source": []
  }
 ],
 "metadata": {
  "kernelspec": {
   "display_name": "Python 3",
   "language": "python",
   "name": "python3"
  },
  "language_info": {
   "codemirror_mode": {
    "name": "ipython",
    "version": 3
   },
   "file_extension": ".py",
   "mimetype": "text/x-python",
   "name": "python",
   "nbconvert_exporter": "python",
   "pygments_lexer": "ipython3",
   "version": "3.6.8"
  },
  "orig_nbformat": 4
 },
 "nbformat": 4,
 "nbformat_minor": 2
}
